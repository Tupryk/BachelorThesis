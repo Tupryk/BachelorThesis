{
 "cells": [
  {
   "cell_type": "code",
   "execution_count": 9,
   "metadata": {},
   "outputs": [],
   "source": [
    "import os\n",
    "import numpy as np\n",
    "\n",
    "import LMCE.cfusdlog as cfusdlog\n",
    "import LMCE.uav_trajectory as uav_trajectory\n",
    "from LMCE.error_estimation import error_calculator, find_best_cutoff"
   ]
  },
  {
   "cell_type": "markdown",
   "metadata": {},
   "source": [
    "Here we compare the different average errors for each flight. The flights have a timescale of 0.6."
   ]
  },
  {
   "cell_type": "code",
   "execution_count": 23,
   "metadata": {},
   "outputs": [
    {
     "name": "stdout",
     "output_type": "stream",
     "text": [
      "----------------------------------------\n",
      "Avg. error for 'lee': 0.13349 (m) for the invidual flights: [0.13265049481819421, 0.13694333235273984, 0.13339751793545943, 0.13115956600000897, 0.13531140583192675, 0.13263341601842876, 0.135313974345844, 0.13049556399950185]\n",
      "Avg. inf time for 'lee': 0.00000\n",
      "----------------------------------------\n",
      "Avg. error for 'nn': 0.13381 (m) for the invidual flights: [0.13212407978684707, 0.13625985059970336, 0.13488776243200654, 0.13529046958570806, 0.13132636549520055, 0.13292686914900936, 0.13385421284089866]\n",
      "Avg. inf time for 'nn': 3.69467\n",
      "----------------------------------------\n",
      "Avg. error for 'standard': 0.13100 (m) for the invidual flights: [0.12754159040825416, 0.1303852509048947, 0.13054595719351833, 0.13312608865377057, 0.13249682533512472, 0.13090499096660005, 0.13241528837225602, 0.1306094356126]\n",
      "Avg. inf time for 'standard': inf\n",
      "----------------------------------------\n",
      "Avg. error for 'tree': 0.12786 (m) for the invidual flights: [0.12909715961567425, 0.12370056256483578, 0.13250050022124518, 0.12412107008589478, 0.12422766502277799, 0.13008948868566003, 0.12916898402025864, 0.12996813349254252]\n",
      "Avg. inf time for 'tree': inf\n"
     ]
    }
   ],
   "source": [
    "# Get desired path\n",
    "traj = uav_trajectory.Trajectory()\n",
    "traj.loadcsv(\"./LMCE/flight_paths/figure8.csv\")\n",
    "traj.stretchtime(2)\n",
    "\n",
    "ts = np.arange(0, traj.duration, 0.01)\n",
    "evals = np.empty((len(ts), 15))\n",
    "for t, i in zip(ts, range(0, len(ts))):\n",
    "    e = traj.eval(t)\n",
    "    e.pos += np.array([0, 0, 1])\n",
    "    evals[i, 0:3] = e.pos\n",
    "\n",
    "target_pos = evals.transpose()\n",
    "\n",
    "main_path = \"./final_results/cf21/\"\n",
    "categories = [\"lee\", \"nn\", \"standard\", \"tree\"]\n",
    "\n",
    "\n",
    "for c in categories:\n",
    "    avg_errors = []\n",
    "    avg_it = []\n",
    "    path = main_path + c\n",
    "    for filename in os.listdir(path):\n",
    "        # if c == \"nn\" and filename == \"nn_log05\":\n",
    "        #     continue\n",
    "\n",
    "        data_path = path + \"/\" + filename\n",
    "        # Get real path\n",
    "        data = cfusdlog.decode(data_path)['fixedFrequency']\n",
    "        real_pos = [data[\"stateEstimate.x\"], data[\"stateEstimate.y\"]]\n",
    "\n",
    "        # Calculate error\n",
    "        cutoff = find_best_cutoff(real_pos, target_pos)\n",
    "        error = error_calculator(cutoff, real_pos, target_pos, vis=False)\n",
    "        avg_errors.append(error)\n",
    "        avg_it.append(sum(data[\"nn_perf.inf_tim\"])/len(data[\"nn_perf.inf_tim\"]))\n",
    "\n",
    "    avg_error = sum(avg_errors)/len(avg_errors)\n",
    "    avg_it = sum(avg_it)/len(avg_it)\n",
    "    print(\"----------------------------------------\")\n",
    "    print(f\"Avg. error for '{c}': {avg_error:.5f} (m) for the invidual flights: {avg_errors}\")\n",
    "    print(f\"Avg. inf time for '{c}': {avg_it:.5f}\")\n"
   ]
  }
 ],
 "metadata": {
  "kernelspec": {
   "display_name": "torch",
   "language": "python",
   "name": "python3"
  },
  "language_info": {
   "codemirror_mode": {
    "name": "ipython",
    "version": 3
   },
   "file_extension": ".py",
   "mimetype": "text/x-python",
   "name": "python",
   "nbconvert_exporter": "python",
   "pygments_lexer": "ipython3",
   "version": "3.11.0"
  }
 },
 "nbformat": 4,
 "nbformat_minor": 2
}
