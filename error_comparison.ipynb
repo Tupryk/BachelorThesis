{
 "cells": [
  {
   "cell_type": "code",
   "execution_count": 2,
   "metadata": {},
   "outputs": [],
   "source": [
    "import os\n",
    "import numpy as np\n",
    "\n",
    "import LMCE.cfusdlog as cfusdlog\n",
    "import LMCE.uav_trajectory as uav_trajectory\n",
    "from LMCE.error_estimation import error_calculator, find_best_cutoff"
   ]
  },
  {
   "cell_type": "markdown",
   "metadata": {},
   "source": [
    "Here we compare the different average errors for each flight. The flights have a timescale of 0.6."
   ]
  },
  {
   "cell_type": "code",
   "execution_count": 6,
   "metadata": {},
   "outputs": [
    {
     "name": "stdout",
     "output_type": "stream",
     "text": [
      "nn_log15 0.09967773498208557\n",
      "nn_log13 0.09637465154396123\n",
      "nn_log14 0.09652856385683685\n",
      "nn_log11 0.10145738076644367\n",
      "nn_log16 0.10252250346778471\n",
      "nn_log17 0.0914242704270875\n",
      "nn_log10 0.0980810507752353\n",
      "----------------------------------------\n",
      "Avg. error for 'standard': 0.09801 (meters) for the invidual flights: [0.09967773498208557, 0.09637465154396123, 0.09652856385683685, 0.10145738076644367, 0.10252250346778471, 0.0914242704270875, 0.0980810507752353]\n",
      "Avg. inf time for 'standard': 2.34403 (microseconds)\n"
     ]
    }
   ],
   "source": [
    "# Get desired path\n",
    "traj = uav_trajectory.Trajectory()\n",
    "traj.loadcsv(\"./LMCE/flight_paths/figure8.csv\")\n",
    "traj.stretchtime(2)\n",
    "\n",
    "ts = np.arange(0, traj.duration, 0.01)\n",
    "evals = np.empty((len(ts), 15))\n",
    "for t, i in zip(ts, range(0, len(ts))):\n",
    "    e = traj.eval(t)\n",
    "    e.pos += np.array([0, 0, 1])\n",
    "    evals[i, 0:3] = e.pos\n",
    "\n",
    "target_pos = evals.transpose()\n",
    "\n",
    "main_path = \"./timescale7/cf21/\"\n",
    "categories = [\"lee\", \"nn\", \"standard\", \"tree\"]\n",
    "categories = [\"standard\"]\n",
    "\n",
    "for c in categories:\n",
    "    avg_errors = []\n",
    "    avg_it = []\n",
    "    path = main_path + c\n",
    "    for filename in os.listdir(path):\n",
    "        if filename == \"nn_log12\":\n",
    "            continue\n",
    "\n",
    "        data_path = path + \"/\" + filename\n",
    "        # Get real path\n",
    "        data = cfusdlog.decode(data_path)['fixedFrequency']\n",
    "        real_pos = [data[\"stateEstimate.x\"], data[\"stateEstimate.y\"]]\n",
    "\n",
    "        # Calculate error\n",
    "        cutoff = find_best_cutoff(real_pos, target_pos)\n",
    "        error = error_calculator(cutoff, real_pos, target_pos, vis=False)\n",
    "        print(filename, error)\n",
    "        avg_errors.append(error)\n",
    "        avg_it.append(sum(data[\"nn_perf.inf_tim\"])/len(data[\"nn_perf.inf_tim\"]))\n",
    "\n",
    "    avg_error = sum(avg_errors[:7])/len(avg_errors[:7])\n",
    "    avg_it = sum(avg_it)/len(avg_it)\n",
    "    print(\"----------------------------------------\")\n",
    "    print(f\"Avg. error for '{c}': {avg_error:.5f} (meters) for the invidual flights: {avg_errors}\")\n",
    "    print(f\"Avg. inf time for '{c}': {avg_it:.5f} (microseconds)\")\n"
   ]
  },
  {
   "cell_type": "code",
   "execution_count": null,
   "metadata": {},
   "outputs": [],
   "source": []
  }
 ],
 "metadata": {
  "kernelspec": {
   "display_name": "torch",
   "language": "python",
   "name": "python3"
  },
  "language_info": {
   "codemirror_mode": {
    "name": "ipython",
    "version": 3
   },
   "file_extension": ".py",
   "mimetype": "text/x-python",
   "name": "python",
   "nbconvert_exporter": "python",
   "pygments_lexer": "ipython3",
   "version": "3.11.0"
  }
 },
 "nbformat": 4,
 "nbformat_minor": 2
}
