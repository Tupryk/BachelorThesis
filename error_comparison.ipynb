{
 "cells": [
  {
   "cell_type": "code",
   "execution_count": 2,
   "metadata": {},
   "outputs": [],
   "source": [
    "import os\n",
    "import numpy as np\n",
    "\n",
    "import LMCE.cfusdlog as cfusdlog\n",
    "import LMCE.uav_trajectory as uav_trajectory\n",
    "from LMCE.error_estimation import error_calculator, find_best_cutoff"
   ]
  },
  {
   "cell_type": "markdown",
   "metadata": {},
   "source": [
    "Here we compare the different average errors for each flight. The flights have a timescale of 0.6."
   ]
  },
  {
   "cell_type": "code",
   "execution_count": 5,
   "metadata": {},
   "outputs": [
    {
     "name": "stdout",
     "output_type": "stream",
     "text": [
      "[3.67647052 3.67647052 3.67647052 ... 3.47222233 3.67647052 3.67647052]\n",
      "[3.70370364 3.70370364 3.64963508 ... 3.67647052 3.73134327 3.73134327]\n",
      "[3.57142854 3.57142854 3.52112675 ... 3.73134327 3.73134327 3.67647052]\n",
      "[3.78787875 3.78787875 3.47222233 ... 3.67647052 3.67647052 3.67647052]\n",
      "[3.57142854 3.67647052 3.57142854 ... 3.78787875 3.67647052 3.67647052]\n",
      "[3.78787875 3.67647052 3.57142854 ... 3.67647052 3.67647052 3.78787875]\n"
     ]
    }
   ],
   "source": [
    "# Get desired path\n",
    "traj = uav_trajectory.Trajectory()\n",
    "traj.loadcsv(\"./LMCE/flight_paths/figure8.csv\")\n",
    "traj.stretchtime(2)\n",
    "\n",
    "ts = np.arange(0, traj.duration, 0.01)\n",
    "evals = np.empty((len(ts), 15))\n",
    "for t, i in zip(ts, range(0, len(ts))):\n",
    "    e = traj.eval(t)\n",
    "    e.pos += np.array([0, 0, 1])\n",
    "    evals[i, 0:3] = e.pos\n",
    "\n",
    "target_pos = evals.transpose()\n",
    "\n",
    "main_path = \"./final_results/cf21/\"\n",
    "categories = [\"lee\", \"nn\", \"standard\", \"tree\"]\n",
    "categories = [\"nn\"]\n",
    "\n",
    "\n",
    "for c in categories:\n",
    "    avg_errors = []\n",
    "    avg_it = []\n",
    "    path = main_path + c\n",
    "    for filename in os.listdir(path):\n",
    "        # if c == \"nn\" and filename == \"nn_log05\":\n",
    "        #     continue\n",
    "\n",
    "        data_path = path + \"/\" + filename\n",
    "        # Get real path\n",
    "        data = cfusdlog.decode(data_path)['fixedFrequency']\n",
    "        real_pos = [data[\"stateEstimate.x\"], data[\"stateEstimate.y\"]]\n",
    "\n",
    "        # Calculate error\n",
    "        cutoff = find_best_cutoff(real_pos, target_pos)\n",
    "        error = error_calculator(cutoff, real_pos, target_pos, vis=False)\n",
    "        avg_errors.append(error)\n",
    "        avg_it.append(sum(data[\"nn_perf.inf_tim\"])/len(data[\"nn_perf.inf_tim\"]))\n",
    "\n",
    "    avg_error = sum(avg_errors)/len(avg_errors)\n",
    "    avg_it = sum(avg_it)/len(avg_it)\n",
    "    print(\"----------------------------------------\")\n",
    "    print(f\"Avg. error for '{c}': {avg_error:.5f} (m) for the invidual flights: {avg_errors}\")\n",
    "    print(f\"Avg. inf time for '{c}': {avg_it:.5f} (Hz)\")\n"
   ]
  },
  {
   "cell_type": "code",
   "execution_count": null,
   "metadata": {},
   "outputs": [],
   "source": []
  }
 ],
 "metadata": {
  "kernelspec": {
   "display_name": "torch",
   "language": "python",
   "name": "python3"
  },
  "language_info": {
   "codemirror_mode": {
    "name": "ipython",
    "version": 3
   },
   "file_extension": ".py",
   "mimetype": "text/x-python",
   "name": "python",
   "nbconvert_exporter": "python",
   "pygments_lexer": "ipython3",
   "version": "3.11.0"
  }
 },
 "nbformat": 4,
 "nbformat_minor": 2
}
