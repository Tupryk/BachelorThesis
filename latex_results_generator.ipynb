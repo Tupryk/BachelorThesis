{
 "cells": [
  {
   "cell_type": "code",
   "execution_count": 1,
   "metadata": {},
   "outputs": [],
   "source": [
    "import os\n",
    "import numpy as np\n",
    "import LMCE.cfusdlog as cfusdlog\n",
    "\n",
    "import LMCE.uav_trajectory as uav_trajectory\n",
    "from LMCE.error_estimation import error_calculator, find_best_cutoff"
   ]
  },
  {
   "cell_type": "code",
   "execution_count": 2,
   "metadata": {},
   "outputs": [],
   "source": [
    "folder_path = \"./inditest\"\n",
    "\n",
    "# TABLE_DESCRIPTION = \"Comparison of average deviation from desired flight path (meters) of the quadrotor carrying a payload.\"\n",
    "TABLE_DESCRIPTION = \"Comparison of average deviation from desired flight path (meters) of the quadrotor with no payload.\"\n",
    "\n",
    "NN_KEY = \"nn\"\n",
    "INDI_KEY = \"indi\"\n",
    "\n",
    "# Get desired path\n",
    "traj = uav_trajectory.Trajectory()\n",
    "traj.loadcsv(\"./LMCE/flight_paths/figure8.csv\")\n",
    "traj.stretchtime(2)\n",
    "\n",
    "ts = np.arange(0, traj.duration, 0.01)\n",
    "evals = np.empty((len(ts), 15))\n",
    "for t, i in zip(ts, range(0, len(ts))):\n",
    "    e = traj.eval(t)\n",
    "    e.pos += np.array([0, 0, 1])\n",
    "    evals[i, 0:3] = e.pos\n",
    "\n",
    "target_pos = evals.transpose()"
   ]
  },
  {
   "cell_type": "code",
   "execution_count": null,
   "metadata": {},
   "outputs": [],
   "source": [
    "errors = [[] for i in range(4)]\n",
    "\n",
    "for filename in os.listdir(folder_path):\n",
    "    file_path = os.path.join(folder_path, filename)\n",
    "    \n",
    "    data = cfusdlog.decode(file_path)['fixedFrequency']\n",
    "\n",
    "    using_nn = NN_KEY in data.keys() and sum(data[NN_KEY])\n",
    "    using_indi = INDI_KEY in data.keys() and sum(data[INDI_KEY])\n",
    "\n",
    "    real_pos = [data[\"stateEstimate.x\"], data[\"stateEstimate.y\"] - 1.]\n",
    "\n",
    "    # Calculate error\n",
    "    start_cutoff, end_cutoff = find_best_cutoff(real_pos, target_pos)\n",
    "    print(start_cutoff, end_cutoff, len(real_pos[0]))\n",
    "    error = error_calculator(real_pos, target_pos, start_cutoff, end_cutoff, vis=True)\n",
    "\n",
    "    if using_nn and using_indi:\n",
    "        errors[3].append(error)\n",
    "    elif using_nn:\n",
    "        errors[2].append(error)\n",
    "    elif using_indi:\n",
    "        errors[1].append(error)\n",
    "    else:\n",
    "        errors[0].append(error)\n",
    "\n",
    "errors = [sum(e)/len(e) if len(e) != 0 else 0 for e in errors]"
   ]
  },
  {
   "cell_type": "code",
   "execution_count": 4,
   "metadata": {},
   "outputs": [],
   "source": [
    "min_error = min(errors)\n",
    "\n",
    "error_strs = [f\"$\\mathbf{{{e}}}$\" if e == min_error else f\"{e}\" for e in errors]\n",
    "\n",
    "latex_text = f\"\"\"\\\\begin{{table}}[htbp]\n",
    "  \\centering\n",
    "  \\caption{{{TABLE_DESCRIPTION}}}\n",
    "  \\\\begin{{tabular}}{{|c|c|}}\n",
    "    \\hline\n",
    "    Flight Contoller & avg. error (m) \\\\\\\\\n",
    "    \\hline\n",
    "    Lee & {error_strs[0]} \\\\\\\\\n",
    "    \\hline\n",
    "    Lee+INDI & {error_strs[1]} \\\\\\\\\n",
    "    \\hline\n",
    "    Lee+MLP & {error_strs[2]} \\\\\\\\\n",
    "    \\hline\n",
    "    Lee+INDI+MLP & {error_strs[3]} \\\\\\\\\n",
    "    \\hline\n",
    "  \\end{{tabular}}\n",
    "  \\label{{tab:results_payload}}\n",
    "\\end{{table}}\"\"\""
   ]
  },
  {
   "cell_type": "code",
   "execution_count": null,
   "metadata": {},
   "outputs": [],
   "source": [
    "print(latex_text)"
   ]
  },
  {
   "cell_type": "code",
   "execution_count": null,
   "metadata": {},
   "outputs": [],
   "source": []
  }
 ],
 "metadata": {
  "kernelspec": {
   "display_name": "robocup",
   "language": "python",
   "name": "python3"
  },
  "language_info": {
   "codemirror_mode": {
    "name": "ipython",
    "version": 3
   },
   "file_extension": ".py",
   "mimetype": "text/x-python",
   "name": "python",
   "nbconvert_exporter": "python",
   "pygments_lexer": "ipython3",
   "version": "3.10.15"
  }
 },
 "nbformat": 4,
 "nbformat_minor": 2
}
